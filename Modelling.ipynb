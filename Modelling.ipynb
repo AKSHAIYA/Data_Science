{
 "cells": [
  {
   "cell_type": "code",
   "execution_count": 2,
   "metadata": {},
   "outputs": [],
   "source": [
    "import pandas as pd\n",
    "import numpy as np\n",
    "import matplotlib.pyplot as plt\n",
    "from sklearn.metrics import mean_squared_error\n",
    "from sklearn.linear_model import LinearRegression, Ridge, Lasso, ElasticNet\n",
    "from sklearn.neighbors import KNeighborsRegressor"
   ]
  },
  {
   "cell_type": "code",
   "execution_count": 3,
   "metadata": {},
   "outputs": [],
   "source": [
    "train = pd.read_csv(\"train_preprocessed.csv\")\n",
    "test = pd.read_csv(\"test_preprocessed.csv\")\n",
    "sample = pd.read_csv(\"sample_submission.csv\")"
   ]
  },
  {
   "cell_type": "code",
   "execution_count": 4,
   "metadata": {},
   "outputs": [],
   "source": [
    "train_X = train.drop(columns=['User_ID','Purchase','Product_ID'])"
   ]
  },
  {
   "cell_type": "code",
   "execution_count": 5,
   "metadata": {},
   "outputs": [
    {
     "data": {
      "text/html": [
       "<div>\n",
       "<style scoped>\n",
       "    .dataframe tbody tr th:only-of-type {\n",
       "        vertical-align: middle;\n",
       "    }\n",
       "\n",
       "    .dataframe tbody tr th {\n",
       "        vertical-align: top;\n",
       "    }\n",
       "\n",
       "    .dataframe thead th {\n",
       "        text-align: right;\n",
       "    }\n",
       "</style>\n",
       "<table border=\"1\" class=\"dataframe\">\n",
       "  <thead>\n",
       "    <tr style=\"text-align: right;\">\n",
       "      <th></th>\n",
       "      <th>Gender_F</th>\n",
       "      <th>Gender_M</th>\n",
       "      <th>City_Category_A</th>\n",
       "      <th>City_Category_B</th>\n",
       "      <th>City_Category_C</th>\n",
       "      <th>Age</th>\n",
       "      <th>Occupation</th>\n",
       "      <th>Stay_In_Current_City_Years</th>\n",
       "      <th>Product_Category_1</th>\n",
       "      <th>Product_Category_2</th>\n",
       "      <th>Marital_Status</th>\n",
       "    </tr>\n",
       "  </thead>\n",
       "  <tbody>\n",
       "    <tr>\n",
       "      <th>0</th>\n",
       "      <td>1</td>\n",
       "      <td>0</td>\n",
       "      <td>1</td>\n",
       "      <td>0</td>\n",
       "      <td>0</td>\n",
       "      <td>-2.370632</td>\n",
       "      <td>0.294486</td>\n",
       "      <td>0.109989</td>\n",
       "      <td>-0.610134</td>\n",
       "      <td>-0.294215</td>\n",
       "      <td>0</td>\n",
       "    </tr>\n",
       "    <tr>\n",
       "      <th>1</th>\n",
       "      <td>1</td>\n",
       "      <td>0</td>\n",
       "      <td>1</td>\n",
       "      <td>0</td>\n",
       "      <td>0</td>\n",
       "      <td>-2.370632</td>\n",
       "      <td>0.294486</td>\n",
       "      <td>0.109989</td>\n",
       "      <td>-1.125843</td>\n",
       "      <td>-0.759177</td>\n",
       "      <td>0</td>\n",
       "    </tr>\n",
       "    <tr>\n",
       "      <th>2</th>\n",
       "      <td>1</td>\n",
       "      <td>0</td>\n",
       "      <td>1</td>\n",
       "      <td>0</td>\n",
       "      <td>0</td>\n",
       "      <td>-2.370632</td>\n",
       "      <td>0.294486</td>\n",
       "      <td>0.109989</td>\n",
       "      <td>1.710556</td>\n",
       "      <td>-0.294215</td>\n",
       "      <td>0</td>\n",
       "    </tr>\n",
       "    <tr>\n",
       "      <th>3</th>\n",
       "      <td>1</td>\n",
       "      <td>0</td>\n",
       "      <td>1</td>\n",
       "      <td>0</td>\n",
       "      <td>0</td>\n",
       "      <td>-2.370632</td>\n",
       "      <td>0.294486</td>\n",
       "      <td>0.109989</td>\n",
       "      <td>1.710556</td>\n",
       "      <td>1.100672</td>\n",
       "      <td>0</td>\n",
       "    </tr>\n",
       "    <tr>\n",
       "      <th>4</th>\n",
       "      <td>0</td>\n",
       "      <td>1</td>\n",
       "      <td>0</td>\n",
       "      <td>0</td>\n",
       "      <td>1</td>\n",
       "      <td>1.909095</td>\n",
       "      <td>1.214421</td>\n",
       "      <td>1.661833</td>\n",
       "      <td>0.679138</td>\n",
       "      <td>-0.294215</td>\n",
       "      <td>0</td>\n",
       "    </tr>\n",
       "    <tr>\n",
       "      <th>...</th>\n",
       "      <td>...</td>\n",
       "      <td>...</td>\n",
       "      <td>...</td>\n",
       "      <td>...</td>\n",
       "      <td>...</td>\n",
       "      <td>...</td>\n",
       "      <td>...</td>\n",
       "      <td>...</td>\n",
       "      <td>...</td>\n",
       "      <td>...</td>\n",
       "      <td>...</td>\n",
       "    </tr>\n",
       "    <tr>\n",
       "      <th>550063</th>\n",
       "      <td>0</td>\n",
       "      <td>1</td>\n",
       "      <td>0</td>\n",
       "      <td>1</td>\n",
       "      <td>0</td>\n",
       "      <td>1.725020</td>\n",
       "      <td>0.754454</td>\n",
       "      <td>-0.665933</td>\n",
       "      <td>3.773391</td>\n",
       "      <td>-0.294215</td>\n",
       "      <td>1</td>\n",
       "    </tr>\n",
       "    <tr>\n",
       "      <th>550064</th>\n",
       "      <td>1</td>\n",
       "      <td>0</td>\n",
       "      <td>0</td>\n",
       "      <td>0</td>\n",
       "      <td>1</td>\n",
       "      <td>-0.345815</td>\n",
       "      <td>-1.085416</td>\n",
       "      <td>0.885911</td>\n",
       "      <td>3.773391</td>\n",
       "      <td>-0.294215</td>\n",
       "      <td>0</td>\n",
       "    </tr>\n",
       "    <tr>\n",
       "      <th>550065</th>\n",
       "      <td>1</td>\n",
       "      <td>0</td>\n",
       "      <td>0</td>\n",
       "      <td>1</td>\n",
       "      <td>0</td>\n",
       "      <td>-0.345815</td>\n",
       "      <td>1.061099</td>\n",
       "      <td>1.661833</td>\n",
       "      <td>3.773391</td>\n",
       "      <td>-0.294215</td>\n",
       "      <td>1</td>\n",
       "    </tr>\n",
       "    <tr>\n",
       "      <th>550066</th>\n",
       "      <td>1</td>\n",
       "      <td>0</td>\n",
       "      <td>0</td>\n",
       "      <td>0</td>\n",
       "      <td>1</td>\n",
       "      <td>1.909095</td>\n",
       "      <td>-1.085416</td>\n",
       "      <td>0.109989</td>\n",
       "      <td>3.773391</td>\n",
       "      <td>-0.294215</td>\n",
       "      <td>0</td>\n",
       "    </tr>\n",
       "    <tr>\n",
       "      <th>550067</th>\n",
       "      <td>1</td>\n",
       "      <td>0</td>\n",
       "      <td>0</td>\n",
       "      <td>1</td>\n",
       "      <td>0</td>\n",
       "      <td>1.264835</td>\n",
       "      <td>-1.238738</td>\n",
       "      <td>1.661833</td>\n",
       "      <td>3.773391</td>\n",
       "      <td>-0.294215</td>\n",
       "      <td>1</td>\n",
       "    </tr>\n",
       "  </tbody>\n",
       "</table>\n",
       "<p>550068 rows × 11 columns</p>\n",
       "</div>"
      ],
      "text/plain": [
       "        Gender_F  Gender_M  City_Category_A  City_Category_B  City_Category_C  \\\n",
       "0              1         0                1                0                0   \n",
       "1              1         0                1                0                0   \n",
       "2              1         0                1                0                0   \n",
       "3              1         0                1                0                0   \n",
       "4              0         1                0                0                1   \n",
       "...          ...       ...              ...              ...              ...   \n",
       "550063         0         1                0                1                0   \n",
       "550064         1         0                0                0                1   \n",
       "550065         1         0                0                1                0   \n",
       "550066         1         0                0                0                1   \n",
       "550067         1         0                0                1                0   \n",
       "\n",
       "             Age  Occupation  Stay_In_Current_City_Years  Product_Category_1  \\\n",
       "0      -2.370632    0.294486                    0.109989           -0.610134   \n",
       "1      -2.370632    0.294486                    0.109989           -1.125843   \n",
       "2      -2.370632    0.294486                    0.109989            1.710556   \n",
       "3      -2.370632    0.294486                    0.109989            1.710556   \n",
       "4       1.909095    1.214421                    1.661833            0.679138   \n",
       "...          ...         ...                         ...                 ...   \n",
       "550063  1.725020    0.754454                   -0.665933            3.773391   \n",
       "550064 -0.345815   -1.085416                    0.885911            3.773391   \n",
       "550065 -0.345815    1.061099                    1.661833            3.773391   \n",
       "550066  1.909095   -1.085416                    0.109989            3.773391   \n",
       "550067  1.264835   -1.238738                    1.661833            3.773391   \n",
       "\n",
       "        Product_Category_2  Marital_Status  \n",
       "0                -0.294215               0  \n",
       "1                -0.759177               0  \n",
       "2                -0.294215               0  \n",
       "3                 1.100672               0  \n",
       "4                -0.294215               0  \n",
       "...                    ...             ...  \n",
       "550063           -0.294215               1  \n",
       "550064           -0.294215               0  \n",
       "550065           -0.294215               1  \n",
       "550066           -0.294215               0  \n",
       "550067           -0.294215               1  \n",
       "\n",
       "[550068 rows x 11 columns]"
      ]
     },
     "execution_count": 5,
     "metadata": {},
     "output_type": "execute_result"
    }
   ],
   "source": [
    "train_X "
   ]
  },
  {
   "cell_type": "code",
   "execution_count": 6,
   "metadata": {},
   "outputs": [],
   "source": [
    "train_y = train['Purchase']"
   ]
  },
  {
   "cell_type": "code",
   "execution_count": 7,
   "metadata": {},
   "outputs": [
    {
     "data": {
      "text/plain": [
       "0          8370.0\n",
       "1         15200.0\n",
       "2          1422.0\n",
       "3          1057.0\n",
       "4          7969.0\n",
       "           ...   \n",
       "550063      368.0\n",
       "550064      371.0\n",
       "550065      137.0\n",
       "550066      365.0\n",
       "550067      490.0\n",
       "Name: Purchase, Length: 550068, dtype: float64"
      ]
     },
     "execution_count": 7,
     "metadata": {},
     "output_type": "execute_result"
    }
   ],
   "source": [
    "train_y"
   ]
  },
  {
   "cell_type": "code",
   "execution_count": 8,
   "metadata": {},
   "outputs": [],
   "source": [
    "test_X = test.drop(columns = ['Purchase','User_ID','Product_ID'])"
   ]
  },
  {
   "cell_type": "code",
   "execution_count": 9,
   "metadata": {},
   "outputs": [],
   "source": [
    "def model_fit(model, train_X, train_y, test_X,sample_sub,filename):\n",
    "    model.fit(train_X, train_y)\n",
    "    train_pred = np.abs(model.predict(train_X))\n",
    "    print(\"Train RMSE : \",mean_squared_error(train_y,train_pred, squared=False))\n",
    "    test_pred = model.predict(test_X)\n",
    "    sample['Purchase'] = np.abs(test_pred)\n",
    "    sample.to_csv(filename, index = False)\n",
    "    return mean_squared_error(train_y, train_pred, squared=False)\n",
    "        "
   ]
  },
  {
   "cell_type": "code",
   "execution_count": 10,
   "metadata": {},
   "outputs": [],
   "source": [
    "model = [LinearRegression(), Ridge(), Lasso(), ElasticNet(), KNeighborsRegressor()]"
   ]
  },
  {
   "cell_type": "code",
   "execution_count": 11,
   "metadata": {},
   "outputs": [
    {
     "name": "stdout",
     "output_type": "stream",
     "text": [
      "LinearRegression()\n",
      "Train RMSE :  4695.872670193051\n",
      "Ridge()\n",
      "Train RMSE :  4695.870483642187\n",
      "Lasso()\n",
      "Train RMSE :  4695.872769863542\n",
      "ElasticNet()\n",
      "Train RMSE :  4732.6962916378025\n",
      "KNeighborsRegressor()\n",
      "Train RMSE :  3005.6754079655407\n"
     ]
    }
   ],
   "source": [
    "for i in model:\n",
    "    print(i)\n",
    "    model_fit(i, train_X, train_y, test_X, sample, str(i)[:-2]+\".csv\")"
   ]
  },
  {
   "cell_type": "code",
   "execution_count": null,
   "metadata": {},
   "outputs": [
    {
     "name": "stdout",
     "output_type": "stream",
     "text": [
      "1\n",
      "Train RMSE :  3652.3903439754267\n",
      "2\n",
      "Train RMSE :  3177.012975981221\n",
      "3\n",
      "Train RMSE :  3050.772554057362\n",
      "4\n",
      "Train RMSE :  3012.6015686666415\n"
     ]
    }
   ],
   "source": [
    "res = []\n",
    "for i in range(1,10):\n",
    "    model = KNeighborsRegressor(n_neighbors=i)\n",
    "    print(i)\n",
    "    err = model_fit(model, train_X, train_y, test_X, sample, str(i)+\"KNN.csv\")\n",
    "    res.append(err)"
   ]
  },
  {
   "cell_type": "code",
   "execution_count": null,
   "metadata": {},
   "outputs": [],
   "source": []
  }
 ],
 "metadata": {
  "kernelspec": {
   "display_name": "Python 3",
   "language": "python",
   "name": "python3"
  },
  "language_info": {
   "codemirror_mode": {
    "name": "ipython",
    "version": 3
   },
   "file_extension": ".py",
   "mimetype": "text/x-python",
   "name": "python",
   "nbconvert_exporter": "python",
   "pygments_lexer": "ipython3",
   "version": "3.8.5"
  }
 },
 "nbformat": 4,
 "nbformat_minor": 4
}
